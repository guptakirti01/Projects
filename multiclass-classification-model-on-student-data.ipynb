{
 "cells": [
  {
   "cell_type": "code",
   "execution_count": 1,
   "id": "f2f1a336",
   "metadata": {
    "_cell_guid": "b1076dfc-b9ad-4769-8c92-a6c4dae69d19",
    "_uuid": "8f2839f25d086af736a60e9eeb907d3b93b6e0e5",
    "execution": {
     "iopub.execute_input": "2022-09-12T06:48:16.139839Z",
     "iopub.status.busy": "2022-09-12T06:48:16.138947Z",
     "iopub.status.idle": "2022-09-12T06:48:16.156193Z",
     "shell.execute_reply": "2022-09-12T06:48:16.154603Z"
    },
    "papermill": {
     "duration": 0.03753,
     "end_time": "2022-09-12T06:48:16.160301",
     "exception": false,
     "start_time": "2022-09-12T06:48:16.122771",
     "status": "completed"
    },
    "tags": []
   },
   "outputs": [
    {
     "name": "stdout",
     "output_type": "stream",
     "text": [
      "/kaggle/input/students-drop-out-prediction/train.csv\n",
      "/kaggle/input/students-drop-out-prediction/test.csv\n"
     ]
    }
   ],
   "source": [
    "# This Python 3 environment comes with many helpful analytics libraries installed\n",
    "# It is defined by the kaggle/python Docker image: https://github.com/kaggle/docker-python\n",
    "# For example, here's several helpful packages to load\n",
    "\n",
    "import numpy as np # linear algebra\n",
    "import pandas as pd # data processing, CSV file I/O (e.g. pd.read_csv)\n",
    "\n",
    "# Input data files are available in the read-only \"../input/\" directory\n",
    "# For example, running this (by clicking run or pressing Shift+Enter) will list all files under the input directory\n",
    "\n",
    "import os\n",
    "for dirname, _, filenames in os.walk('/kaggle/input'):\n",
    "    for filename in filenames:\n",
    "        print(os.path.join(dirname, filename))\n",
    "\n",
    "# You can write up to 20GB to the current directory (/kaggle/working/) that gets preserved as output when you create a version using \"Save & Run All\" \n",
    "# You can also write temporary files to /kaggle/temp/, but they won't be saved outside of the current session"
   ]
  },
  {
   "cell_type": "code",
   "execution_count": 2,
   "id": "c7e7cbfc",
   "metadata": {
    "execution": {
     "iopub.execute_input": "2022-09-12T06:48:16.190801Z",
     "iopub.status.busy": "2022-09-12T06:48:16.190369Z",
     "iopub.status.idle": "2022-09-12T06:48:17.684641Z",
     "shell.execute_reply": "2022-09-12T06:48:17.683192Z"
    },
    "papermill": {
     "duration": 1.512532,
     "end_time": "2022-09-12T06:48:17.687620",
     "exception": false,
     "start_time": "2022-09-12T06:48:16.175088",
     "status": "completed"
    },
    "tags": []
   },
   "outputs": [],
   "source": [
    "import matplotlib.pyplot as plt\n",
    "import seaborn as sns\n",
    "from sklearn.model_selection import train_test_split"
   ]
  },
  {
   "cell_type": "code",
   "execution_count": 3,
   "id": "701d888b",
   "metadata": {
    "execution": {
     "iopub.execute_input": "2022-09-12T06:48:17.716087Z",
     "iopub.status.busy": "2022-09-12T06:48:17.715365Z",
     "iopub.status.idle": "2022-09-12T06:48:17.719705Z",
     "shell.execute_reply": "2022-09-12T06:48:17.718901Z"
    },
    "papermill": {
     "duration": 0.020903,
     "end_time": "2022-09-12T06:48:17.721839",
     "exception": false,
     "start_time": "2022-09-12T06:48:17.700936",
     "status": "completed"
    },
    "tags": []
   },
   "outputs": [],
   "source": [
    "import warnings\n",
    "warnings.filterwarnings(\"ignore\")"
   ]
  },
  {
   "cell_type": "markdown",
   "id": "02ef4385",
   "metadata": {
    "papermill": {
     "duration": 0.013301,
     "end_time": "2022-09-12T06:48:17.747650",
     "exception": false,
     "start_time": "2022-09-12T06:48:17.734349",
     "status": "completed"
    },
    "tags": []
   },
   "source": [
    "## Reading the train & test files"
   ]
  },
  {
   "cell_type": "code",
   "execution_count": 4,
   "id": "657326b2",
   "metadata": {
    "execution": {
     "iopub.execute_input": "2022-09-12T06:48:17.775289Z",
     "iopub.status.busy": "2022-09-12T06:48:17.774570Z",
     "iopub.status.idle": "2022-09-12T06:48:17.860213Z",
     "shell.execute_reply": "2022-09-12T06:48:17.858673Z"
    },
    "papermill": {
     "duration": 0.103211,
     "end_time": "2022-09-12T06:48:17.863461",
     "exception": false,
     "start_time": "2022-09-12T06:48:17.760250",
     "status": "completed"
    },
    "tags": []
   },
   "outputs": [
    {
     "name": "stdout",
     "output_type": "stream",
     "text": [
      "(3796, 43)\n",
      "(1628, 42)\n",
      "\n",
      "0.3001474926253687\n"
     ]
    }
   ],
   "source": [
    "traindata = pd.read_csv('../input/students-drop-out-prediction/train.csv')\n",
    "testdata = pd.read_csv('../input/students-drop-out-prediction/test.csv')\n",
    "\n",
    "print(traindata.shape)\n",
    "print(testdata.shape)\n",
    "print()\n",
    "print(testdata.shape[0]/(traindata.shape[0]+testdata.shape[0]))"
   ]
  },
  {
   "cell_type": "code",
   "execution_count": 5,
   "id": "c58a09f5",
   "metadata": {
    "execution": {
     "iopub.execute_input": "2022-09-12T06:48:17.891625Z",
     "iopub.status.busy": "2022-09-12T06:48:17.891196Z",
     "iopub.status.idle": "2022-09-12T06:48:17.908331Z",
     "shell.execute_reply": "2022-09-12T06:48:17.906878Z"
    },
    "papermill": {
     "duration": 0.034875,
     "end_time": "2022-09-12T06:48:17.911420",
     "exception": false,
     "start_time": "2022-09-12T06:48:17.876545",
     "status": "completed"
    },
    "tags": []
   },
   "outputs": [],
   "source": [
    "features = traindata.iloc[:,0:-1]\n",
    "label = traindata.iloc[:,-1]\n",
    "\n",
    "train_x,val_x,train_y,val_y = train_test_split(features,label,test_size=0.2,random_state=0)"
   ]
  },
  {
   "cell_type": "markdown",
   "id": "0583e2c8",
   "metadata": {
    "papermill": {
     "duration": 0.013343,
     "end_time": "2022-09-12T06:48:17.937781",
     "exception": false,
     "start_time": "2022-09-12T06:48:17.924438",
     "status": "completed"
    },
    "tags": []
   },
   "source": [
    "## Understanding the training data "
   ]
  },
  {
   "cell_type": "code",
   "execution_count": 6,
   "id": "09131235",
   "metadata": {
    "execution": {
     "iopub.execute_input": "2022-09-12T06:48:17.965704Z",
     "iopub.status.busy": "2022-09-12T06:48:17.965085Z",
     "iopub.status.idle": "2022-09-12T06:48:17.970921Z",
     "shell.execute_reply": "2022-09-12T06:48:17.970180Z"
    },
    "papermill": {
     "duration": 0.022462,
     "end_time": "2022-09-12T06:48:17.973284",
     "exception": false,
     "start_time": "2022-09-12T06:48:17.950822",
     "status": "completed"
    },
    "tags": []
   },
   "outputs": [
    {
     "name": "stdout",
     "output_type": "stream",
     "text": [
      "(3036, 42)\n",
      "(760, 42)\n",
      "(3036,)\n",
      "(760,)\n"
     ]
    }
   ],
   "source": [
    "print(train_x.shape)\n",
    "print(val_x.shape)\n",
    "print(train_y.shape)\n",
    "print(val_y.shape)"
   ]
  },
  {
   "cell_type": "code",
   "execution_count": 7,
   "id": "ba85cc70",
   "metadata": {
    "execution": {
     "iopub.execute_input": "2022-09-12T06:48:18.002258Z",
     "iopub.status.busy": "2022-09-12T06:48:18.001448Z",
     "iopub.status.idle": "2022-09-12T06:48:18.030957Z",
     "shell.execute_reply": "2022-09-12T06:48:18.029832Z"
    },
    "papermill": {
     "duration": 0.046999,
     "end_time": "2022-09-12T06:48:18.033555",
     "exception": false,
     "start_time": "2022-09-12T06:48:17.986556",
     "status": "completed"
    },
    "tags": []
   },
   "outputs": [
    {
     "data": {
      "text/html": [
       "<div>\n",
       "<style scoped>\n",
       "    .dataframe tbody tr th:only-of-type {\n",
       "        vertical-align: middle;\n",
       "    }\n",
       "\n",
       "    .dataframe tbody tr th {\n",
       "        vertical-align: top;\n",
       "    }\n",
       "\n",
       "    .dataframe thead th {\n",
       "        text-align: right;\n",
       "    }\n",
       "</style>\n",
       "<table border=\"1\" class=\"dataframe\">\n",
       "  <thead>\n",
       "    <tr style=\"text-align: right;\">\n",
       "      <th></th>\n",
       "      <th>id</th>\n",
       "      <th>v_21</th>\n",
       "      <th>v_32</th>\n",
       "      <th>v_15</th>\n",
       "      <th>v_4</th>\n",
       "      <th>v_1</th>\n",
       "      <th>v_8</th>\n",
       "      <th>v_12</th>\n",
       "      <th>v_25</th>\n",
       "      <th>v_20</th>\n",
       "      <th>...</th>\n",
       "      <th>v_7</th>\n",
       "      <th>v_2</th>\n",
       "      <th>v_16</th>\n",
       "      <th>v_34</th>\n",
       "      <th>v_35</th>\n",
       "      <th>v_36</th>\n",
       "      <th>v_37</th>\n",
       "      <th>v_38</th>\n",
       "      <th>v_39</th>\n",
       "      <th>v_40</th>\n",
       "    </tr>\n",
       "  </thead>\n",
       "  <tbody>\n",
       "    <tr>\n",
       "      <th>628</th>\n",
       "      <td>628</td>\n",
       "      <td>3</td>\n",
       "      <td>6</td>\n",
       "      <td>11</td>\n",
       "      <td>148</td>\n",
       "      <td>1</td>\n",
       "      <td>1</td>\n",
       "      <td>16</td>\n",
       "      <td>110</td>\n",
       "      <td>6</td>\n",
       "      <td>...</td>\n",
       "      <td>10.8</td>\n",
       "      <td>1.4</td>\n",
       "      <td>1.74</td>\n",
       "      <td>2</td>\n",
       "      <td>12</td>\n",
       "      <td>1</td>\n",
       "      <td>4</td>\n",
       "      <td>15</td>\n",
       "      <td>28</td>\n",
       "      <td>3</td>\n",
       "    </tr>\n",
       "    <tr>\n",
       "      <th>1670</th>\n",
       "      <td>1670</td>\n",
       "      <td>4</td>\n",
       "      <td>6</td>\n",
       "      <td>10</td>\n",
       "      <td>20</td>\n",
       "      <td>0</td>\n",
       "      <td>1</td>\n",
       "      <td>16</td>\n",
       "      <td>181</td>\n",
       "      <td>251</td>\n",
       "      <td>...</td>\n",
       "      <td>10.8</td>\n",
       "      <td>1.4</td>\n",
       "      <td>1.74</td>\n",
       "      <td>9</td>\n",
       "      <td>9</td>\n",
       "      <td>37</td>\n",
       "      <td>1</td>\n",
       "      <td>54</td>\n",
       "      <td>33</td>\n",
       "      <td>1</td>\n",
       "    </tr>\n",
       "    <tr>\n",
       "      <th>330</th>\n",
       "      <td>330</td>\n",
       "      <td>4</td>\n",
       "      <td>50</td>\n",
       "      <td>10</td>\n",
       "      <td>167</td>\n",
       "      <td>0</td>\n",
       "      <td>17</td>\n",
       "      <td>16</td>\n",
       "      <td>218</td>\n",
       "      <td>69</td>\n",
       "      <td>...</td>\n",
       "      <td>11.1</td>\n",
       "      <td>0.6</td>\n",
       "      <td>2.02</td>\n",
       "      <td>5</td>\n",
       "      <td>51</td>\n",
       "      <td>10</td>\n",
       "      <td>4</td>\n",
       "      <td>18</td>\n",
       "      <td>67</td>\n",
       "      <td>2</td>\n",
       "    </tr>\n",
       "    <tr>\n",
       "      <th>1426</th>\n",
       "      <td>1426</td>\n",
       "      <td>3</td>\n",
       "      <td>6</td>\n",
       "      <td>10</td>\n",
       "      <td>96</td>\n",
       "      <td>1</td>\n",
       "      <td>1</td>\n",
       "      <td>16</td>\n",
       "      <td>110</td>\n",
       "      <td>168</td>\n",
       "      <td>...</td>\n",
       "      <td>7.6</td>\n",
       "      <td>2.6</td>\n",
       "      <td>0.32</td>\n",
       "      <td>7</td>\n",
       "      <td>97</td>\n",
       "      <td>16</td>\n",
       "      <td>23</td>\n",
       "      <td>11</td>\n",
       "      <td>21</td>\n",
       "      <td>2</td>\n",
       "    </tr>\n",
       "    <tr>\n",
       "      <th>2590</th>\n",
       "      <td>2590</td>\n",
       "      <td>3</td>\n",
       "      <td>72</td>\n",
       "      <td>10</td>\n",
       "      <td>54</td>\n",
       "      <td>1</td>\n",
       "      <td>1</td>\n",
       "      <td>16</td>\n",
       "      <td>1</td>\n",
       "      <td>6</td>\n",
       "      <td>...</td>\n",
       "      <td>9.4</td>\n",
       "      <td>-0.8</td>\n",
       "      <td>-3.12</td>\n",
       "      <td>9</td>\n",
       "      <td>12</td>\n",
       "      <td>38</td>\n",
       "      <td>29</td>\n",
       "      <td>5</td>\n",
       "      <td>27</td>\n",
       "      <td>2</td>\n",
       "    </tr>\n",
       "  </tbody>\n",
       "</table>\n",
       "<p>5 rows × 42 columns</p>\n",
       "</div>"
      ],
      "text/plain": [
       "        id  v_21  v_32  v_15  v_4  v_1  v_8  v_12  v_25  v_20  ...   v_7  v_2  \\\n",
       "628    628     3     6    11  148    1    1    16   110     6  ...  10.8  1.4   \n",
       "1670  1670     4     6    10   20    0    1    16   181   251  ...  10.8  1.4   \n",
       "330    330     4    50    10  167    0   17    16   218    69  ...  11.1  0.6   \n",
       "1426  1426     3     6    10   96    1    1    16   110   168  ...   7.6  2.6   \n",
       "2590  2590     3    72    10   54    1    1    16     1     6  ...   9.4 -0.8   \n",
       "\n",
       "      v_16  v_34  v_35  v_36  v_37  v_38  v_39  v_40  \n",
       "628   1.74     2    12     1     4    15    28     3  \n",
       "1670  1.74     9     9    37     1    54    33     1  \n",
       "330   2.02     5    51    10     4    18    67     2  \n",
       "1426  0.32     7    97    16    23    11    21     2  \n",
       "2590 -3.12     9    12    38    29     5    27     2  \n",
       "\n",
       "[5 rows x 42 columns]"
      ]
     },
     "execution_count": 7,
     "metadata": {},
     "output_type": "execute_result"
    }
   ],
   "source": [
    "train_x.head()"
   ]
  },
  {
   "cell_type": "code",
   "execution_count": 8,
   "id": "5170fc22",
   "metadata": {
    "execution": {
     "iopub.execute_input": "2022-09-12T06:48:18.062850Z",
     "iopub.status.busy": "2022-09-12T06:48:18.062438Z",
     "iopub.status.idle": "2022-09-12T06:48:18.093451Z",
     "shell.execute_reply": "2022-09-12T06:48:18.091968Z"
    },
    "papermill": {
     "duration": 0.048472,
     "end_time": "2022-09-12T06:48:18.095955",
     "exception": false,
     "start_time": "2022-09-12T06:48:18.047483",
     "status": "completed"
    },
    "tags": []
   },
   "outputs": [
    {
     "name": "stdout",
     "output_type": "stream",
     "text": [
      "<class 'pandas.core.frame.DataFrame'>\n",
      "Int64Index: 3036 entries, 628 to 2732\n",
      "Data columns (total 42 columns):\n",
      " #   Column  Non-Null Count  Dtype  \n",
      "---  ------  --------------  -----  \n",
      " 0   id      3036 non-null   int64  \n",
      " 1   v_21    3036 non-null   int64  \n",
      " 2   v_32    3036 non-null   int64  \n",
      " 3   v_15    3036 non-null   int64  \n",
      " 4   v_4     3036 non-null   int64  \n",
      " 5   v_1     3036 non-null   int64  \n",
      " 6   v_8     3036 non-null   int64  \n",
      " 7   v_12    3036 non-null   int64  \n",
      " 8   v_25    3036 non-null   int64  \n",
      " 9   v_20    3036 non-null   int64  \n",
      " 10  v_18    3036 non-null   int64  \n",
      " 11  v_3     3036 non-null   int64  \n",
      " 12  v_11    3036 non-null   int64  \n",
      " 13  v_14    3036 non-null   int64  \n",
      " 14  v_26    3036 non-null   int64  \n",
      " 15  v_27    3036 non-null   int64  \n",
      " 16  v_30    3036 non-null   int64  \n",
      " 17  v_9     3036 non-null   int64  \n",
      " 18  v_31    3036 non-null   int64  \n",
      " 19  v_28    3036 non-null   int64  \n",
      " 20  v_13    3036 non-null   int64  \n",
      " 21  v_33    3036 non-null   int64  \n",
      " 22  v_17    3036 non-null   int64  \n",
      " 23  v_19    3036 non-null   int64  \n",
      " 24  v_29    3036 non-null   int64  \n",
      " 25  v_23    3036 non-null   int64  \n",
      " 26  v_24    3036 non-null   int64  \n",
      " 27  v_10    3036 non-null   int64  \n",
      " 28  v_5     3036 non-null   int64  \n",
      " 29  v_6     3036 non-null   int64  \n",
      " 30  v_22    3036 non-null   int64  \n",
      " 31  v_0     3036 non-null   int64  \n",
      " 32  v_7     3036 non-null   float64\n",
      " 33  v_2     3036 non-null   float64\n",
      " 34  v_16    3036 non-null   float64\n",
      " 35  v_34    3036 non-null   int64  \n",
      " 36  v_35    3036 non-null   int64  \n",
      " 37  v_36    3036 non-null   int64  \n",
      " 38  v_37    3036 non-null   int64  \n",
      " 39  v_38    3036 non-null   int64  \n",
      " 40  v_39    3036 non-null   int64  \n",
      " 41  v_40    3036 non-null   int64  \n",
      "dtypes: float64(3), int64(39)\n",
      "memory usage: 1019.9 KB\n"
     ]
    }
   ],
   "source": [
    "train_x.info()"
   ]
  },
  {
   "cell_type": "code",
   "execution_count": 9,
   "id": "8f0fc79e",
   "metadata": {
    "execution": {
     "iopub.execute_input": "2022-09-12T06:48:18.126660Z",
     "iopub.status.busy": "2022-09-12T06:48:18.125731Z",
     "iopub.status.idle": "2022-09-12T06:48:18.246527Z",
     "shell.execute_reply": "2022-09-12T06:48:18.245181Z"
    },
    "papermill": {
     "duration": 0.139464,
     "end_time": "2022-09-12T06:48:18.249698",
     "exception": false,
     "start_time": "2022-09-12T06:48:18.110234",
     "status": "completed"
    },
    "tags": []
   },
   "outputs": [
    {
     "data": {
      "text/html": [
       "<div>\n",
       "<style scoped>\n",
       "    .dataframe tbody tr th:only-of-type {\n",
       "        vertical-align: middle;\n",
       "    }\n",
       "\n",
       "    .dataframe tbody tr th {\n",
       "        vertical-align: top;\n",
       "    }\n",
       "\n",
       "    .dataframe thead th {\n",
       "        text-align: right;\n",
       "    }\n",
       "</style>\n",
       "<table border=\"1\" class=\"dataframe\">\n",
       "  <thead>\n",
       "    <tr style=\"text-align: right;\">\n",
       "      <th></th>\n",
       "      <th>id</th>\n",
       "      <th>v_21</th>\n",
       "      <th>v_32</th>\n",
       "      <th>v_15</th>\n",
       "      <th>v_4</th>\n",
       "      <th>v_1</th>\n",
       "      <th>v_8</th>\n",
       "      <th>v_12</th>\n",
       "      <th>v_25</th>\n",
       "      <th>v_20</th>\n",
       "      <th>...</th>\n",
       "      <th>v_7</th>\n",
       "      <th>v_2</th>\n",
       "      <th>v_16</th>\n",
       "      <th>v_34</th>\n",
       "      <th>v_35</th>\n",
       "      <th>v_36</th>\n",
       "      <th>v_37</th>\n",
       "      <th>v_38</th>\n",
       "      <th>v_39</th>\n",
       "      <th>v_40</th>\n",
       "    </tr>\n",
       "  </thead>\n",
       "  <tbody>\n",
       "    <tr>\n",
       "      <th>count</th>\n",
       "      <td>3036.000000</td>\n",
       "      <td>3036.000000</td>\n",
       "      <td>3036.000000</td>\n",
       "      <td>3036.000000</td>\n",
       "      <td>3036.000000</td>\n",
       "      <td>3036.000000</td>\n",
       "      <td>3036.00000</td>\n",
       "      <td>3036.000000</td>\n",
       "      <td>3036.000000</td>\n",
       "      <td>3036.000000</td>\n",
       "      <td>...</td>\n",
       "      <td>3036.000000</td>\n",
       "      <td>3036.000000</td>\n",
       "      <td>3036.000000</td>\n",
       "      <td>3036.000000</td>\n",
       "      <td>3036.000000</td>\n",
       "      <td>3036.000000</td>\n",
       "      <td>3036.000000</td>\n",
       "      <td>3036.000000</td>\n",
       "      <td>3036.000000</td>\n",
       "      <td>3036.000000</td>\n",
       "    </tr>\n",
       "    <tr>\n",
       "      <th>mean</th>\n",
       "      <td>1908.256588</td>\n",
       "      <td>4.824440</td>\n",
       "      <td>71.333992</td>\n",
       "      <td>11.585968</td>\n",
       "      <td>100.010540</td>\n",
       "      <td>0.907444</td>\n",
       "      <td>3.43643</td>\n",
       "      <td>18.989130</td>\n",
       "      <td>98.516469</td>\n",
       "      <td>166.527997</td>\n",
       "      <td>...</td>\n",
       "      <td>12.399111</td>\n",
       "      <td>2.041996</td>\n",
       "      <td>0.811008</td>\n",
       "      <td>5.333004</td>\n",
       "      <td>50.404150</td>\n",
       "      <td>26.032609</td>\n",
       "      <td>20.796113</td>\n",
       "      <td>31.368906</td>\n",
       "      <td>40.496706</td>\n",
       "      <td>3.269104</td>\n",
       "    </tr>\n",
       "    <tr>\n",
       "      <th>std</th>\n",
       "      <td>1089.981141</td>\n",
       "      <td>6.074589</td>\n",
       "      <td>55.984428</td>\n",
       "      <td>2.568762</td>\n",
       "      <td>45.023646</td>\n",
       "      <td>0.289857</td>\n",
       "      <td>4.56015</td>\n",
       "      <td>14.927818</td>\n",
       "      <td>79.153874</td>\n",
       "      <td>103.004775</td>\n",
       "      <td>...</td>\n",
       "      <td>3.425179</td>\n",
       "      <td>2.515395</td>\n",
       "      <td>3.099194</td>\n",
       "      <td>3.512854</td>\n",
       "      <td>29.396484</td>\n",
       "      <td>14.975386</td>\n",
       "      <td>12.033873</td>\n",
       "      <td>17.920940</td>\n",
       "      <td>22.520450</td>\n",
       "      <td>2.626135</td>\n",
       "    </tr>\n",
       "    <tr>\n",
       "      <th>min</th>\n",
       "      <td>0.000000</td>\n",
       "      <td>3.000000</td>\n",
       "      <td>6.000000</td>\n",
       "      <td>9.000000</td>\n",
       "      <td>9.000000</td>\n",
       "      <td>0.000000</td>\n",
       "      <td>1.00000</td>\n",
       "      <td>16.000000</td>\n",
       "      <td>1.000000</td>\n",
       "      <td>6.000000</td>\n",
       "      <td>...</td>\n",
       "      <td>7.600000</td>\n",
       "      <td>-0.800000</td>\n",
       "      <td>-4.060000</td>\n",
       "      <td>0.000000</td>\n",
       "      <td>0.000000</td>\n",
       "      <td>0.000000</td>\n",
       "      <td>0.000000</td>\n",
       "      <td>0.000000</td>\n",
       "      <td>0.000000</td>\n",
       "      <td>0.000000</td>\n",
       "    </tr>\n",
       "    <tr>\n",
       "      <th>25%</th>\n",
       "      <td>972.750000</td>\n",
       "      <td>3.000000</td>\n",
       "      <td>6.000000</td>\n",
       "      <td>10.000000</td>\n",
       "      <td>56.750000</td>\n",
       "      <td>1.000000</td>\n",
       "      <td>1.00000</td>\n",
       "      <td>16.000000</td>\n",
       "      <td>5.000000</td>\n",
       "      <td>60.000000</td>\n",
       "      <td>...</td>\n",
       "      <td>9.400000</td>\n",
       "      <td>0.500000</td>\n",
       "      <td>-1.700000</td>\n",
       "      <td>3.000000</td>\n",
       "      <td>24.750000</td>\n",
       "      <td>13.000000</td>\n",
       "      <td>10.000000</td>\n",
       "      <td>16.000000</td>\n",
       "      <td>22.000000</td>\n",
       "      <td>1.000000</td>\n",
       "    </tr>\n",
       "    <tr>\n",
       "      <th>50%</th>\n",
       "      <td>1914.500000</td>\n",
       "      <td>3.000000</td>\n",
       "      <td>89.000000</td>\n",
       "      <td>10.000000</td>\n",
       "      <td>102.000000</td>\n",
       "      <td>1.000000</td>\n",
       "      <td>1.00000</td>\n",
       "      <td>16.000000</td>\n",
       "      <td>110.000000</td>\n",
       "      <td>168.000000</td>\n",
       "      <td>...</td>\n",
       "      <td>12.400000</td>\n",
       "      <td>1.400000</td>\n",
       "      <td>0.790000</td>\n",
       "      <td>5.000000</td>\n",
       "      <td>50.000000</td>\n",
       "      <td>26.000000</td>\n",
       "      <td>21.000000</td>\n",
       "      <td>32.000000</td>\n",
       "      <td>41.500000</td>\n",
       "      <td>3.000000</td>\n",
       "    </tr>\n",
       "    <tr>\n",
       "      <th>75%</th>\n",
       "      <td>2846.250000</td>\n",
       "      <td>4.000000</td>\n",
       "      <td>116.000000</td>\n",
       "      <td>12.000000</td>\n",
       "      <td>146.000000</td>\n",
       "      <td>1.000000</td>\n",
       "      <td>3.00000</td>\n",
       "      <td>16.000000</td>\n",
       "      <td>181.000000</td>\n",
       "      <td>251.000000</td>\n",
       "      <td>...</td>\n",
       "      <td>14.825000</td>\n",
       "      <td>2.800000</td>\n",
       "      <td>2.020000</td>\n",
       "      <td>8.000000</td>\n",
       "      <td>76.000000</td>\n",
       "      <td>39.000000</td>\n",
       "      <td>31.000000</td>\n",
       "      <td>47.000000</td>\n",
       "      <td>59.250000</td>\n",
       "      <td>5.000000</td>\n",
       "    </tr>\n",
       "    <tr>\n",
       "      <th>max</th>\n",
       "      <td>3795.000000</td>\n",
       "      <td>59.000000</td>\n",
       "      <td>176.000000</td>\n",
       "      <td>25.000000</td>\n",
       "      <td>176.000000</td>\n",
       "      <td>1.000000</td>\n",
       "      <td>24.00000</td>\n",
       "      <td>177.000000</td>\n",
       "      <td>274.000000</td>\n",
       "      <td>322.000000</td>\n",
       "      <td>...</td>\n",
       "      <td>25.200000</td>\n",
       "      <td>12.700000</td>\n",
       "      <td>12.510000</td>\n",
       "      <td>18.000000</td>\n",
       "      <td>107.000000</td>\n",
       "      <td>58.000000</td>\n",
       "      <td>49.000000</td>\n",
       "      <td>69.000000</td>\n",
       "      <td>87.000000</td>\n",
       "      <td>14.000000</td>\n",
       "    </tr>\n",
       "  </tbody>\n",
       "</table>\n",
       "<p>8 rows × 42 columns</p>\n",
       "</div>"
      ],
      "text/plain": [
       "                id         v_21         v_32         v_15          v_4  \\\n",
       "count  3036.000000  3036.000000  3036.000000  3036.000000  3036.000000   \n",
       "mean   1908.256588     4.824440    71.333992    11.585968   100.010540   \n",
       "std    1089.981141     6.074589    55.984428     2.568762    45.023646   \n",
       "min       0.000000     3.000000     6.000000     9.000000     9.000000   \n",
       "25%     972.750000     3.000000     6.000000    10.000000    56.750000   \n",
       "50%    1914.500000     3.000000    89.000000    10.000000   102.000000   \n",
       "75%    2846.250000     4.000000   116.000000    12.000000   146.000000   \n",
       "max    3795.000000    59.000000   176.000000    25.000000   176.000000   \n",
       "\n",
       "               v_1         v_8         v_12         v_25         v_20  ...  \\\n",
       "count  3036.000000  3036.00000  3036.000000  3036.000000  3036.000000  ...   \n",
       "mean      0.907444     3.43643    18.989130    98.516469   166.527997  ...   \n",
       "std       0.289857     4.56015    14.927818    79.153874   103.004775  ...   \n",
       "min       0.000000     1.00000    16.000000     1.000000     6.000000  ...   \n",
       "25%       1.000000     1.00000    16.000000     5.000000    60.000000  ...   \n",
       "50%       1.000000     1.00000    16.000000   110.000000   168.000000  ...   \n",
       "75%       1.000000     3.00000    16.000000   181.000000   251.000000  ...   \n",
       "max       1.000000    24.00000   177.000000   274.000000   322.000000  ...   \n",
       "\n",
       "               v_7          v_2         v_16         v_34         v_35  \\\n",
       "count  3036.000000  3036.000000  3036.000000  3036.000000  3036.000000   \n",
       "mean     12.399111     2.041996     0.811008     5.333004    50.404150   \n",
       "std       3.425179     2.515395     3.099194     3.512854    29.396484   \n",
       "min       7.600000    -0.800000    -4.060000     0.000000     0.000000   \n",
       "25%       9.400000     0.500000    -1.700000     3.000000    24.750000   \n",
       "50%      12.400000     1.400000     0.790000     5.000000    50.000000   \n",
       "75%      14.825000     2.800000     2.020000     8.000000    76.000000   \n",
       "max      25.200000    12.700000    12.510000    18.000000   107.000000   \n",
       "\n",
       "              v_36         v_37         v_38         v_39         v_40  \n",
       "count  3036.000000  3036.000000  3036.000000  3036.000000  3036.000000  \n",
       "mean     26.032609    20.796113    31.368906    40.496706     3.269104  \n",
       "std      14.975386    12.033873    17.920940    22.520450     2.626135  \n",
       "min       0.000000     0.000000     0.000000     0.000000     0.000000  \n",
       "25%      13.000000    10.000000    16.000000    22.000000     1.000000  \n",
       "50%      26.000000    21.000000    32.000000    41.500000     3.000000  \n",
       "75%      39.000000    31.000000    47.000000    59.250000     5.000000  \n",
       "max      58.000000    49.000000    69.000000    87.000000    14.000000  \n",
       "\n",
       "[8 rows x 42 columns]"
      ]
     },
     "execution_count": 9,
     "metadata": {},
     "output_type": "execute_result"
    }
   ],
   "source": [
    "train_x.describe()"
   ]
  },
  {
   "cell_type": "code",
   "execution_count": 10,
   "id": "999a4044",
   "metadata": {
    "execution": {
     "iopub.execute_input": "2022-09-12T06:48:18.280181Z",
     "iopub.status.busy": "2022-09-12T06:48:18.279303Z",
     "iopub.status.idle": "2022-09-12T06:48:19.299421Z",
     "shell.execute_reply": "2022-09-12T06:48:19.297994Z"
    },
    "papermill": {
     "duration": 1.038363,
     "end_time": "2022-09-12T06:48:19.302034",
     "exception": false,
     "start_time": "2022-09-12T06:48:18.263671",
     "status": "completed"
    },
    "tags": []
   },
   "outputs": [
    {
     "data": {
      "text/plain": [
       "<AxesSubplot:>"
      ]
     },
     "execution_count": 10,
     "metadata": {},
     "output_type": "execute_result"
    },
    {
     "data": {
      "image/png": "[encoded data removed]",
      "text/plain": [
       "<Figure size 1440x1440 with 2 Axes>"
      ]
     },
     "metadata": {
      "needs_background": "light"
     },
     "output_type": "display_data"
    }
   ],
   "source": [
    "plt.figure(figsize=(20,20))\n",
    "sns.heatmap(train_x.corr())"
   ]
  },
  {
   "cell_type": "code",
   "execution_count": 11,
   "id": "e98ada00",
   "metadata": {
    "execution": {
     "iopub.execute_input": "2022-09-12T06:48:19.334297Z",
     "iopub.status.busy": "2022-09-12T06:48:19.333783Z",
     "iopub.status.idle": "2022-09-12T06:48:20.202022Z",
     "shell.execute_reply": "2022-09-12T06:48:20.200585Z"
    },
    "papermill": {
     "duration": 0.888005,
     "end_time": "2022-09-12T06:48:20.204853",
     "exception": false,
     "start_time": "2022-09-12T06:48:19.316848",
     "status": "completed"
    },
    "tags": []
   },
   "outputs": [
    {
     "data": {
      "text/plain": [
       "<AxesSubplot:>"
      ]
     },
     "execution_count": 11,
     "metadata": {},
     "output_type": "execute_result"
    },
    {
     "data": {
      "image/png": "[encoded data removed]",
      "text/plain": [
       "<Figure size 1440x1440 with 1 Axes>"
      ]
     },
     "metadata": {
      "needs_background": "light"
     },
     "output_type": "display_data"
    }
   ],
   "source": [
    "plt.figure(figsize = (20,20))\n",
    "sns.boxplot(data = train_x.iloc[:, 1:])"
   ]
  },
  {
   "cell_type": "code",
   "execution_count": 12,
   "id": "36150099",
   "metadata": {
    "execution": {
     "iopub.execute_input": "2022-09-12T06:48:20.239430Z",
     "iopub.status.busy": "2022-09-12T06:48:20.238252Z",
     "iopub.status.idle": "2022-09-12T06:49:03.080094Z",
     "shell.execute_reply": "2022-09-12T06:49:03.078250Z"
    },
    "papermill": {
     "duration": 42.884156,
     "end_time": "2022-09-12T06:49:03.105033",
     "exception": false,
     "start_time": "2022-09-12T06:48:20.220877",
     "status": "completed"
    },
    "tags": []
   },
   "outputs": [
    {
     "data": {
      "image/png": "[encoded data removed]",
      "text/plain": [
       "<Figure size 1440x3600 with 86 Axes>"
      ]
     },
     "metadata": {
      "needs_background": "light"
     },
     "output_type": "display_data"
    }
   ],
   "source": [
    "fig, axs = plt.subplots(nrows=11, ncols=4)\n",
    "fig.set_size_inches(20, 50)\n",
    "\n",
    "for i in range(len(train_x.columns)):\n",
    "    fig.add_subplot(11,4,i+1)\n",
    "    fig.tight_layout()\n",
    "    plt.hist(train_x[train_x.columns[i]])\n",
    "    plt.title(train_x.columns[i])"
   ]
  },
  {
   "cell_type": "code",
   "execution_count": 13,
   "id": "f2dd856d",
   "metadata": {
    "execution": {
     "iopub.execute_input": "2022-09-12T06:49:03.149327Z",
     "iopub.status.busy": "2022-09-12T06:49:03.148339Z",
     "iopub.status.idle": "2022-09-12T06:49:03.379709Z",
     "shell.execute_reply": "2022-09-12T06:49:03.378181Z"
    },
    "papermill": {
     "duration": 0.257152,
     "end_time": "2022-09-12T06:49:03.382879",
     "exception": false,
     "start_time": "2022-09-12T06:49:03.125727",
     "status": "completed"
    },
    "tags": []
   },
   "outputs": [
    {
     "name": "stdout",
     "output_type": "stream",
     "text": [
      "1    1503\n",
      "0     994\n",
      "2     539\n",
      "Name: label, dtype: int64\n"
     ]
    },
    {
     "data": {
      "image/png": "[encoded data removed]",
      "text/plain": [
       "<Figure size 432x288 with 1 Axes>"
      ]
     },
     "metadata": {
      "needs_background": "light"
     },
     "output_type": "display_data"
    }
   ],
   "source": [
    "print(train_y.value_counts())\n",
    "\n",
    "plt.hist(train_y)\n",
    "plt.show()"
   ]
  },
  {
   "cell_type": "code",
   "execution_count": 14,
   "id": "f8614794",
   "metadata": {
    "execution": {
     "iopub.execute_input": "2022-09-12T06:49:03.424850Z",
     "iopub.status.busy": "2022-09-12T06:49:03.424235Z",
     "iopub.status.idle": "2022-09-12T06:49:03.899644Z",
     "shell.execute_reply": "2022-09-12T06:49:03.897692Z"
    },
    "papermill": {
     "duration": 0.501826,
     "end_time": "2022-09-12T06:49:03.904681",
     "exception": false,
     "start_time": "2022-09-12T06:49:03.402855",
     "status": "completed"
    },
    "tags": []
   },
   "outputs": [],
   "source": [
    "from imblearn.over_sampling import SMOTE\n",
    "\n",
    "oversample = SMOTE()\n",
    "train_x,train_y = oversample.fit_resample(train_x,train_y)"
   ]
  },
  {
   "cell_type": "code",
   "execution_count": 15,
   "id": "8db961b6",
   "metadata": {
    "execution": {
     "iopub.execute_input": "2022-09-12T06:49:03.993856Z",
     "iopub.status.busy": "2022-09-12T06:49:03.993434Z",
     "iopub.status.idle": "2022-09-12T06:49:04.221637Z",
     "shell.execute_reply": "2022-09-12T06:49:04.220076Z"
    },
    "papermill": {
     "duration": 0.268631,
     "end_time": "2022-09-12T06:49:04.224486",
     "exception": false,
     "start_time": "2022-09-12T06:49:03.955855",
     "status": "completed"
    },
    "tags": []
   },
   "outputs": [
    {
     "name": "stdout",
     "output_type": "stream",
     "text": [
      "1    1503\n",
      "0    1503\n",
      "2    1503\n",
      "Name: label, dtype: int64\n"
     ]
    },
    {
     "data": {
      "image/png": "[encoded data removed]",
      "text/plain": [
       "<Figure size 432x288 with 1 Axes>"
      ]
     },
     "metadata": {
      "needs_background": "light"
     },
     "output_type": "display_data"
    }
   ],
   "source": [
    "print(train_y.value_counts())\n",
    "\n",
    "plt.hist(train_y)\n",
    "plt.show()"
   ]
  },
  {
   "cell_type": "markdown",
   "id": "a978ca63",
   "metadata": {
    "papermill": {
     "duration": 0.020352,
     "end_time": "2022-09-12T06:49:04.265805",
     "exception": false,
     "start_time": "2022-09-12T06:49:04.245453",
     "status": "completed"
    },
    "tags": []
   },
   "source": [
    "## Creating the pipeline with Pre-processing steps and Dummy Classifier"
   ]
  },
  {
   "cell_type": "code",
   "execution_count": 16,
   "id": "321b4845",
   "metadata": {
    "execution": {
     "iopub.execute_input": "2022-09-12T06:49:04.308909Z",
     "iopub.status.busy": "2022-09-12T06:49:04.307841Z",
     "iopub.status.idle": "2022-09-12T06:49:04.317099Z",
     "shell.execute_reply": "2022-09-12T06:49:04.315789Z"
    },
    "papermill": {
     "duration": 0.033956,
     "end_time": "2022-09-12T06:49:04.319775",
     "exception": false,
     "start_time": "2022-09-12T06:49:04.285819",
     "status": "completed"
    },
    "tags": []
   },
   "outputs": [],
   "source": [
    "from sklearn.model_selection import cross_validate, GridSearchCV,RandomizedSearchCV\n",
    "from sklearn.pipeline import Pipeline\n",
    "from sklearn.preprocessing import StandardScaler\n",
    "from sklearn.metrics import classification_report\n",
    "from sklearn.dummy import DummyClassifier\n",
    "from sklearn.naive_bayes import GaussianNB\n",
    "from sklearn.linear_model import LogisticRegression,SGDClassifier\n",
    "from sklearn.tree import DecisionTreeClassifier"
   ]
  },
  {
   "cell_type": "code",
   "execution_count": 17,
   "id": "35a30eb2",
   "metadata": {
    "execution": {
     "iopub.execute_input": "2022-09-12T06:49:04.363387Z",
     "iopub.status.busy": "2022-09-12T06:49:04.362271Z",
     "iopub.status.idle": "2022-09-12T06:49:04.512149Z",
     "shell.execute_reply": "2022-09-12T06:49:04.510557Z"
    },
    "papermill": {
     "duration": 0.174423,
     "end_time": "2022-09-12T06:49:04.514901",
     "exception": false,
     "start_time": "2022-09-12T06:49:04.340478",
     "status": "completed"
    },
    "tags": []
   },
   "outputs": [
    {
     "data": {
      "text/plain": [
       "0.16641708264004437"
      ]
     },
     "execution_count": 17,
     "metadata": {},
     "output_type": "execute_result"
    }
   ],
   "source": [
    "basepipe = Pipeline(steps=[('ss',StandardScaler()),('estimator',DummyClassifier())])\n",
    "\n",
    "basepipe.fit(train_x,train_y)\n",
    "\n",
    "f1_score = cross_validate(basepipe,train_x,train_y,scoring='f1_macro',cv=10)\n",
    "f1_score['test_score'].mean()"
   ]
  },
  {
   "cell_type": "markdown",
   "id": "42ffca51",
   "metadata": {
    "papermill": {
     "duration": 0.020139,
     "end_time": "2022-09-12T06:49:04.555294",
     "exception": false,
     "start_time": "2022-09-12T06:49:04.535155",
     "status": "completed"
    },
    "tags": []
   },
   "source": [
    "## Trying out Naive Bayes, Logistic Regression, Decision Tree Classifier and SGD Classifier with hyper parameter tuning"
   ]
  },
  {
   "cell_type": "code",
   "execution_count": 18,
   "id": "6fcee448",
   "metadata": {
    "execution": {
     "iopub.execute_input": "2022-09-12T06:49:04.598471Z",
     "iopub.status.busy": "2022-09-12T06:49:04.597683Z",
     "iopub.status.idle": "2022-09-12T06:49:04.838579Z",
     "shell.execute_reply": "2022-09-12T06:49:04.836801Z"
    },
    "papermill": {
     "duration": 0.266038,
     "end_time": "2022-09-12T06:49:04.841874",
     "exception": false,
     "start_time": "2022-09-12T06:49:04.575836",
     "status": "completed"
    },
    "tags": []
   },
   "outputs": [
    {
     "name": "stdout",
     "output_type": "stream",
     "text": [
      "0.518033142834812\n",
      "0.5157516827915727\n"
     ]
    }
   ],
   "source": [
    "## Gaussian Naive Bayes with standard scaling\n",
    "\n",
    "gnb_pipe= Pipeline([('ss',StandardScaler()),('estimator',GaussianNB())])\n",
    "gnb_cv = cross_validate(gnb_pipe,train_x,train_y, scoring='f1_macro', cv=10,return_train_score=True)\n",
    "print(gnb_cv['train_score'].mean())\n",
    "print(gnb_cv['test_score'].mean())"
   ]
  },
  {
   "cell_type": "code",
   "execution_count": 19,
   "id": "ad7fa301",
   "metadata": {
    "execution": {
     "iopub.execute_input": "2022-09-12T06:49:04.885913Z",
     "iopub.status.busy": "2022-09-12T06:49:04.884852Z",
     "iopub.status.idle": "2022-09-12T06:49:06.832152Z",
     "shell.execute_reply": "2022-09-12T06:49:06.829413Z"
    },
    "papermill": {
     "duration": 1.975039,
     "end_time": "2022-09-12T06:49:06.837716",
     "exception": false,
     "start_time": "2022-09-12T06:49:04.862677",
     "status": "completed"
    },
    "tags": []
   },
   "outputs": [
    {
     "name": "stdout",
     "output_type": "stream",
     "text": [
      "0.7329231314961524\n",
      "0.7184207911830607\n"
     ]
    }
   ],
   "source": [
    "## logistic regression with standard scaling\n",
    "\n",
    "lr_pipe= Pipeline([('ss',StandardScaler()),('estimator',LogisticRegression())])\n",
    "lr_cv = cross_validate(lr_pipe,train_x,train_y, scoring='f1_macro', cv=10,return_train_score=True)\n",
    "print(lr_cv['train_score'].mean())\n",
    "print(lr_cv['test_score'].mean())"
   ]
  },
  {
   "cell_type": "code",
   "execution_count": 20,
   "id": "43f2d364",
   "metadata": {
    "execution": {
     "iopub.execute_input": "2022-09-12T06:49:06.936925Z",
     "iopub.status.busy": "2022-09-12T06:49:06.935859Z",
     "iopub.status.idle": "2022-09-12T06:49:32.512728Z",
     "shell.execute_reply": "2022-09-12T06:49:32.511373Z"
    },
    "papermill": {
     "duration": 25.630355,
     "end_time": "2022-09-12T06:49:32.516086",
     "exception": false,
     "start_time": "2022-09-12T06:49:06.885731",
     "status": "completed"
    },
    "tags": []
   },
   "outputs": [
    {
     "name": "stdout",
     "output_type": "stream",
     "text": [
      "best estimator:\n",
      "Pipeline(steps=[('ss', StandardScaler()),\n",
      "                ('estimator',\n",
      "                 LogisticRegression(C=0.3593813663804626, penalty='l1',\n",
      "                                    solver='saga'))])\n",
      "best score:\n",
      "0.7185611934887471\n"
     ]
    }
   ],
   "source": [
    "## Logistic regression with hyper parameter tuning\n",
    "LR_params =  {'estimator__penalty':['l1','l2'],'estimator__C':np.logspace(-4,4,10),'estimator__solver':['saga','liblinear']}\n",
    "LR_grid = GridSearchCV(lr_pipe,LR_params, scoring='f1_macro', cv=10, n_jobs=-1)\n",
    "LR_grid.fit(train_x,train_y)\n",
    "print('best estimator:')\n",
    "print(LR_grid.best_estimator_)\n",
    "print('best score:')\n",
    "print(LR_grid.best_score_)"
   ]
  },
  {
   "cell_type": "code",
   "execution_count": 21,
   "id": "65fbe9dc",
   "metadata": {
    "execution": {
     "iopub.execute_input": "2022-09-12T06:49:32.566267Z",
     "iopub.status.busy": "2022-09-12T06:49:32.564531Z",
     "iopub.status.idle": "2022-09-12T06:49:32.583899Z",
     "shell.execute_reply": "2022-09-12T06:49:32.582497Z"
    },
    "papermill": {
     "duration": 0.048037,
     "end_time": "2022-09-12T06:49:32.587238",
     "exception": false,
     "start_time": "2022-09-12T06:49:32.539201",
     "status": "completed"
    },
    "tags": []
   },
   "outputs": [
    {
     "name": "stdout",
     "output_type": "stream",
     "text": [
      "              precision    recall  f1-score   support\n",
      "\n",
      "           0       0.80      0.74      0.77       249\n",
      "           1       0.77      0.82      0.80       360\n",
      "           2       0.50      0.48      0.49       151\n",
      "\n",
      "    accuracy                           0.73       760\n",
      "   macro avg       0.69      0.68      0.68       760\n",
      "weighted avg       0.73      0.73      0.73       760\n",
      "\n"
     ]
    }
   ],
   "source": [
    "LR_cr= classification_report(val_y, LR_grid.predict(val_x))\n",
    "print(LR_cr)"
   ]
  },
  {
   "cell_type": "code",
   "execution_count": 22,
   "id": "a561f5fa",
   "metadata": {
    "execution": {
     "iopub.execute_input": "2022-09-12T06:49:32.633643Z",
     "iopub.status.busy": "2022-09-12T06:49:32.632842Z",
     "iopub.status.idle": "2022-09-12T06:49:33.565809Z",
     "shell.execute_reply": "2022-09-12T06:49:33.564113Z"
    },
    "papermill": {
     "duration": 0.960414,
     "end_time": "2022-09-12T06:49:33.569315",
     "exception": false,
     "start_time": "2022-09-12T06:49:32.608901",
     "status": "completed"
    },
    "tags": []
   },
   "outputs": [
    {
     "name": "stdout",
     "output_type": "stream",
     "text": [
      "1.0\n",
      "0.6628011135177893\n"
     ]
    }
   ],
   "source": [
    "## Decision tree classifier\n",
    "dt= DecisionTreeClassifier()\n",
    "dt_cv = cross_validate(dt,train_x,train_y, scoring='f1_macro', cv=10,return_train_score=True)\n",
    "print(dt_cv['train_score'].mean())\n",
    "print(dt_cv['test_score'].mean())"
   ]
  },
  {
   "cell_type": "code",
   "execution_count": 23,
   "id": "c4cbd9dc",
   "metadata": {
    "execution": {
     "iopub.execute_input": "2022-09-12T06:49:33.616341Z",
     "iopub.status.busy": "2022-09-12T06:49:33.615470Z",
     "iopub.status.idle": "2022-09-12T06:49:35.950038Z",
     "shell.execute_reply": "2022-09-12T06:49:35.948430Z"
    },
    "papermill": {
     "duration": 2.362395,
     "end_time": "2022-09-12T06:49:35.953343",
     "exception": false,
     "start_time": "2022-09-12T06:49:33.590948",
     "status": "completed"
    },
    "tags": []
   },
   "outputs": [
    {
     "name": "stdout",
     "output_type": "stream",
     "text": [
      "best estimator:\n",
      "DecisionTreeClassifier(max_depth=70, min_samples_leaf=8, min_samples_split=10)\n",
      "best score:\n",
      "0.673802946215112\n"
     ]
    }
   ],
   "source": [
    "## tuning Decision tree classifier\n",
    "\n",
    "DT_params=  {'criterion':['gini','entropy'],'splitter':['best','random'],'max_depth':[5,8,15,25,30,50,70,None],'min_samples_leaf':[1,2,5,8,10,100],'min_samples_split':[2,6,10,20,40,80,100,120],'max_features':[2,5,10,'auto','sqrt','log2',None]}\n",
    "DT_rs = RandomizedSearchCV(dt,DT_params, scoring= 'f1_macro', cv= 10)\n",
    "DT_rs.fit(train_x,train_y)\n",
    "print('best estimator:')\n",
    "print(DT_rs.best_estimator_)\n",
    "print('best score:')\n",
    "print(DT_rs.best_score_)"
   ]
  },
  {
   "cell_type": "code",
   "execution_count": 24,
   "id": "0a042066",
   "metadata": {
    "execution": {
     "iopub.execute_input": "2022-09-12T06:49:36.000693Z",
     "iopub.status.busy": "2022-09-12T06:49:35.999374Z",
     "iopub.status.idle": "2022-09-12T06:49:36.015867Z",
     "shell.execute_reply": "2022-09-12T06:49:36.014966Z"
    },
    "papermill": {
     "duration": 0.045874,
     "end_time": "2022-09-12T06:49:36.020321",
     "exception": false,
     "start_time": "2022-09-12T06:49:35.974447",
     "status": "completed"
    },
    "tags": []
   },
   "outputs": [
    {
     "name": "stdout",
     "output_type": "stream",
     "text": [
      "              precision    recall  f1-score   support\n",
      "\n",
      "           0       0.70      0.70      0.70       249\n",
      "           1       0.73      0.78      0.76       360\n",
      "           2       0.38      0.32      0.35       151\n",
      "\n",
      "    accuracy                           0.66       760\n",
      "   macro avg       0.60      0.60      0.60       760\n",
      "weighted avg       0.65      0.66      0.66       760\n",
      "\n"
     ]
    }
   ],
   "source": [
    "DT_cr= classification_report(val_y, DT_rs.predict(val_x))\n",
    "print(DT_cr)"
   ]
  },
  {
   "cell_type": "code",
   "execution_count": 25,
   "id": "ac1d5a32",
   "metadata": {
    "execution": {
     "iopub.execute_input": "2022-09-12T06:49:36.066665Z",
     "iopub.status.busy": "2022-09-12T06:49:36.065694Z",
     "iopub.status.idle": "2022-09-12T06:49:37.478061Z",
     "shell.execute_reply": "2022-09-12T06:49:37.472413Z"
    },
    "papermill": {
     "duration": 1.440837,
     "end_time": "2022-09-12T06:49:37.484257",
     "exception": false,
     "start_time": "2022-09-12T06:49:36.043420",
     "status": "completed"
    },
    "tags": []
   },
   "outputs": [
    {
     "name": "stdout",
     "output_type": "stream",
     "text": [
      "0.4448193983330639\n",
      "0.44879633570725075\n"
     ]
    }
   ],
   "source": [
    "## SGD classifier\n",
    "\n",
    "sgd = SGDClassifier()\n",
    "sgd_cv = cross_validate(sgd,train_x,train_y,scoring='f1_macro',cv=5,return_train_score=True)\n",
    "print(sgd_cv['train_score'].mean())\n",
    "print(sgd_cv['test_score'].mean())"
   ]
  },
  {
   "cell_type": "code",
   "execution_count": 26,
   "id": "e35a214f",
   "metadata": {
    "execution": {
     "iopub.execute_input": "2022-09-12T06:49:37.590442Z",
     "iopub.status.busy": "2022-09-12T06:49:37.590052Z",
     "iopub.status.idle": "2022-09-12T06:49:39.971144Z",
     "shell.execute_reply": "2022-09-12T06:49:39.969602Z"
    },
    "papermill": {
     "duration": 2.439918,
     "end_time": "2022-09-12T06:49:39.978358",
     "exception": false,
     "start_time": "2022-09-12T06:49:37.538440",
     "status": "completed"
    },
    "tags": []
   },
   "outputs": [
    {
     "name": "stdout",
     "output_type": "stream",
     "text": [
      "0.6930378979949017\n",
      "0.67660653265406\n"
     ]
    }
   ],
   "source": [
    "## SGD classifier with standard scaling\n",
    "\n",
    "sgd_pipe= Pipeline([('ss',StandardScaler()),('estimator',SGDClassifier())])\n",
    "sgd_cv = cross_validate(sgd_pipe,train_x,train_y, scoring='f1_macro', cv=10,return_train_score=True)\n",
    "print(sgd_cv['train_score'].mean())\n",
    "print(sgd_cv['test_score'].mean())"
   ]
  },
  {
   "cell_type": "code",
   "execution_count": 27,
   "id": "4d944de0",
   "metadata": {
    "execution": {
     "iopub.execute_input": "2022-09-12T06:49:40.086127Z",
     "iopub.status.busy": "2022-09-12T06:49:40.085736Z",
     "iopub.status.idle": "2022-09-12T06:49:58.712313Z",
     "shell.execute_reply": "2022-09-12T06:49:58.711107Z"
    },
    "papermill": {
     "duration": 18.681696,
     "end_time": "2022-09-12T06:49:58.716094",
     "exception": false,
     "start_time": "2022-09-12T06:49:40.034398",
     "status": "completed"
    },
    "tags": []
   },
   "outputs": [
    {
     "name": "stdout",
     "output_type": "stream",
     "text": [
      "best estimator:\n",
      "Pipeline(steps=[('ss', StandardScaler()),\n",
      "                ('estimator',\n",
      "                 SGDClassifier(alpha=0.01, loss='modified_huber',\n",
      "                               max_iter=5000))])\n",
      "best score:\n",
      "0.7034740557668855\n"
     ]
    }
   ],
   "source": [
    "## SGD classifier with hyperparameter tuning\n",
    "sgd_params= {'estimator__loss':['modified_huber','squared_error','hinge'], 'estimator__penalty':['l1','l2'], 'estimator__alpha':[0.1,0.01,0.001], 'estimator__max_iter':[5000]}\n",
    "sgd_rs = RandomizedSearchCV(sgd_pipe,sgd_params,scoring='f1_macro',cv=5,n_jobs=-1)\n",
    "sgd_rs.fit(train_x,train_y)\n",
    "print('best estimator:')\n",
    "print(sgd_rs.best_estimator_)\n",
    "print('best score:')\n",
    "print(sgd_rs.best_score_)"
   ]
  },
  {
   "cell_type": "code",
   "execution_count": 28,
   "id": "2962359d",
   "metadata": {
    "execution": {
     "iopub.execute_input": "2022-09-12T06:49:58.761625Z",
     "iopub.status.busy": "2022-09-12T06:49:58.761222Z",
     "iopub.status.idle": "2022-09-12T06:49:58.775984Z",
     "shell.execute_reply": "2022-09-12T06:49:58.774348Z"
    },
    "papermill": {
     "duration": 0.039679,
     "end_time": "2022-09-12T06:49:58.778491",
     "exception": false,
     "start_time": "2022-09-12T06:49:58.738812",
     "status": "completed"
    },
    "tags": []
   },
   "outputs": [
    {
     "name": "stdout",
     "output_type": "stream",
     "text": [
      "              precision    recall  f1-score   support\n",
      "\n",
      "           0       0.78      0.71      0.74       249\n",
      "           1       0.74      0.81      0.78       360\n",
      "           2       0.48      0.44      0.46       151\n",
      "\n",
      "    accuracy                           0.71       760\n",
      "   macro avg       0.67      0.65      0.66       760\n",
      "weighted avg       0.70      0.71      0.70       760\n",
      "\n"
     ]
    }
   ],
   "source": [
    "sgd_cr= classification_report(val_y, sgd_rs.predict(val_x))\n",
    "print(sgd_cr)"
   ]
  },
  {
   "cell_type": "markdown",
   "id": "240412c7",
   "metadata": {
    "papermill": {
     "duration": 0.021024,
     "end_time": "2022-09-12T06:49:58.820501",
     "exception": false,
     "start_time": "2022-09-12T06:49:58.799477",
     "status": "completed"
    },
    "tags": []
   },
   "source": [
    "## Trying out KNN and SVM with hyper parameter tuning"
   ]
  },
  {
   "cell_type": "code",
   "execution_count": 29,
   "id": "3f06c3b4",
   "metadata": {
    "execution": {
     "iopub.execute_input": "2022-09-12T06:49:58.864592Z",
     "iopub.status.busy": "2022-09-12T06:49:58.863772Z",
     "iopub.status.idle": "2022-09-12T06:49:58.869408Z",
     "shell.execute_reply": "2022-09-12T06:49:58.868265Z"
    },
    "papermill": {
     "duration": 0.03112,
     "end_time": "2022-09-12T06:49:58.872636",
     "exception": false,
     "start_time": "2022-09-12T06:49:58.841516",
     "status": "completed"
    },
    "tags": []
   },
   "outputs": [],
   "source": [
    "from sklearn.neighbors import KNeighborsClassifier\n",
    "from sklearn.svm import SVC "
   ]
  },
  {
   "cell_type": "code",
   "execution_count": 30,
   "id": "c8956fb7",
   "metadata": {
    "execution": {
     "iopub.execute_input": "2022-09-12T06:49:58.917348Z",
     "iopub.status.busy": "2022-09-12T06:49:58.916929Z",
     "iopub.status.idle": "2022-09-12T06:50:02.040997Z",
     "shell.execute_reply": "2022-09-12T06:50:02.039365Z"
    },
    "papermill": {
     "duration": 3.150783,
     "end_time": "2022-09-12T06:50:02.044945",
     "exception": false,
     "start_time": "2022-09-12T06:49:58.894162",
     "status": "completed"
    },
    "tags": []
   },
   "outputs": [
    {
     "name": "stdout",
     "output_type": "stream",
     "text": [
      "0.8204686036674806\n",
      "0.7081763390471731\n"
     ]
    }
   ],
   "source": [
    "## knn with standard scaling\n",
    "\n",
    "knn_pipe= Pipeline(steps = [('ss',StandardScaler()),('estimator',KNeighborsClassifier())])\n",
    "\n",
    "knn_f1 = cross_validate(knn_pipe,train_x,train_y,scoring='f1_macro',cv=5, return_train_score=True)\n",
    "print(knn_f1['train_score'].mean())\n",
    "print(knn_f1['test_score'].mean())"
   ]
  },
  {
   "cell_type": "code",
   "execution_count": 31,
   "id": "978bbee0",
   "metadata": {
    "execution": {
     "iopub.execute_input": "2022-09-12T06:50:02.091222Z",
     "iopub.status.busy": "2022-09-12T06:50:02.090678Z",
     "iopub.status.idle": "2022-09-12T06:50:06.918505Z",
     "shell.execute_reply": "2022-09-12T06:50:06.916831Z"
    },
    "papermill": {
     "duration": 4.854711,
     "end_time": "2022-09-12T06:50:06.921483",
     "exception": false,
     "start_time": "2022-09-12T06:50:02.066772",
     "status": "completed"
    },
    "tags": []
   },
   "outputs": [
    {
     "name": "stdout",
     "output_type": "stream",
     "text": [
      "best estimator:\n",
      "Pipeline(steps=[('ss', StandardScaler()),\n",
      "                ('estimator', KNeighborsClassifier(p=1, weights='distance'))])\n",
      "best score:\n",
      "0.7766838170698491\n"
     ]
    }
   ],
   "source": [
    "## tuning knn\n",
    "\n",
    "knn_params = {'estimator__n_neighbors':[2,5,10,15],'estimator__weights':['uniform','distance'],'estimator__p':[1,2]}\n",
    "knn_rs = RandomizedSearchCV(knn_pipe,knn_params,scoring='f1_macro',cv=5,n_jobs=-1)\n",
    "knn_rs.fit(train_x,train_y)\n",
    "print('best estimator:')\n",
    "print(knn_rs.best_estimator_)\n",
    "print('best score:')\n",
    "print(knn_rs.best_score_)"
   ]
  },
  {
   "cell_type": "code",
   "execution_count": 32,
   "id": "109ca26c",
   "metadata": {
    "execution": {
     "iopub.execute_input": "2022-09-12T06:50:06.968168Z",
     "iopub.status.busy": "2022-09-12T06:50:06.967401Z",
     "iopub.status.idle": "2022-09-12T06:50:07.344800Z",
     "shell.execute_reply": "2022-09-12T06:50:07.342691Z"
    },
    "papermill": {
     "duration": 0.405447,
     "end_time": "2022-09-12T06:50:07.348311",
     "exception": false,
     "start_time": "2022-09-12T06:50:06.942864",
     "status": "completed"
    },
    "tags": []
   },
   "outputs": [
    {
     "name": "stdout",
     "output_type": "stream",
     "text": [
      "              precision    recall  f1-score   support\n",
      "\n",
      "           0       0.78      0.55      0.64       249\n",
      "           1       0.70      0.80      0.75       360\n",
      "           2       0.37      0.42      0.40       151\n",
      "\n",
      "    accuracy                           0.64       760\n",
      "   macro avg       0.62      0.59      0.60       760\n",
      "weighted avg       0.66      0.64      0.64       760\n",
      "\n"
     ]
    }
   ],
   "source": [
    "knn_cr= classification_report(val_y, knn_rs.predict(val_x))\n",
    "print(knn_cr)"
   ]
  },
  {
   "cell_type": "code",
   "execution_count": 33,
   "id": "ae192d5c",
   "metadata": {
    "execution": {
     "iopub.execute_input": "2022-09-12T06:50:07.395185Z",
     "iopub.status.busy": "2022-09-12T06:50:07.394430Z",
     "iopub.status.idle": "2022-09-12T06:50:16.244470Z",
     "shell.execute_reply": "2022-09-12T06:50:16.242859Z"
    },
    "papermill": {
     "duration": 8.87747,
     "end_time": "2022-09-12T06:50:16.247541",
     "exception": false,
     "start_time": "2022-09-12T06:50:07.370071",
     "status": "completed"
    },
    "tags": []
   },
   "outputs": [
    {
     "name": "stdout",
     "output_type": "stream",
     "text": [
      "0.8731808488583823\n",
      "0.7686402551821317\n"
     ]
    }
   ],
   "source": [
    "#svc with standard scaling\n",
    "\n",
    "svc_pipe= Pipeline(steps=[('ss',StandardScaler()),('svc',SVC())])\n",
    "\n",
    "svc_f1 = cross_validate(svc_pipe,train_x,train_y,scoring='f1_macro',cv=5, return_train_score=True)\n",
    "print(svc_f1['train_score'].mean())\n",
    "print(svc_f1['test_score'].mean())"
   ]
  },
  {
   "cell_type": "code",
   "execution_count": 34,
   "id": "7704bea9",
   "metadata": {
    "execution": {
     "iopub.execute_input": "2022-09-12T06:50:16.291316Z",
     "iopub.status.busy": "2022-09-12T06:50:16.290297Z",
     "iopub.status.idle": "2022-09-12T06:57:14.225842Z",
     "shell.execute_reply": "2022-09-12T06:57:14.224173Z"
    },
    "papermill": {
     "duration": 417.979991,
     "end_time": "2022-09-12T06:57:14.248540",
     "exception": false,
     "start_time": "2022-09-12T06:50:16.268549",
     "status": "completed"
    },
    "tags": []
   },
   "outputs": [
    {
     "name": "stdout",
     "output_type": "stream",
     "text": [
      "best estimator:\n",
      "Pipeline(steps=[('ss', StandardScaler()), ('svc', SVC(C=100, gamma=0.1))])\n",
      "best score:\n",
      "0.812417401930184\n"
     ]
    }
   ],
   "source": [
    "## tuning svc\n",
    "\n",
    "svc_params= {'svc__C':[1,10,100],'svc__gamma':[1,0.1,0.001],'svc__kernel':['linear','rbf']}\n",
    "svc_rs = RandomizedSearchCV(svc_pipe,svc_params,scoring='f1_macro',cv=5,n_jobs=-1,return_train_score=True)\n",
    "svc_rs.fit(train_x,train_y)\n",
    "print('best estimator:')\n",
    "print(svc_rs.best_estimator_)\n",
    "print('best score:')\n",
    "print(svc_rs.best_score_)"
   ]
  },
  {
   "cell_type": "code",
   "execution_count": 35,
   "id": "7c510b1f",
   "metadata": {
    "execution": {
     "iopub.execute_input": "2022-09-12T06:57:14.290493Z",
     "iopub.status.busy": "2022-09-12T06:57:14.290120Z",
     "iopub.status.idle": "2022-09-12T06:57:14.596778Z",
     "shell.execute_reply": "2022-09-12T06:57:14.595148Z"
    },
    "papermill": {
     "duration": 0.330967,
     "end_time": "2022-09-12T06:57:14.599641",
     "exception": false,
     "start_time": "2022-09-12T06:57:14.268674",
     "status": "completed"
    },
    "tags": []
   },
   "outputs": [
    {
     "name": "stdout",
     "output_type": "stream",
     "text": [
      "              precision    recall  f1-score   support\n",
      "\n",
      "           0       0.72      0.75      0.73       249\n",
      "           1       0.71      0.86      0.78       360\n",
      "           2       0.48      0.21      0.29       151\n",
      "\n",
      "    accuracy                           0.69       760\n",
      "   macro avg       0.64      0.61      0.60       760\n",
      "weighted avg       0.67      0.69      0.67       760\n",
      "\n"
     ]
    }
   ],
   "source": [
    "svc_cr= classification_report(val_y, svc_rs.predict(val_x))\n",
    "print(svc_cr)"
   ]
  },
  {
   "cell_type": "markdown",
   "id": "1788c020",
   "metadata": {
    "papermill": {
     "duration": 0.019769,
     "end_time": "2022-09-12T06:57:14.639469",
     "exception": false,
     "start_time": "2022-09-12T06:57:14.619700",
     "status": "completed"
    },
    "tags": []
   },
   "source": [
    "## Trying out bagging & boosting methods"
   ]
  },
  {
   "cell_type": "code",
   "execution_count": 36,
   "id": "23c7d9b0",
   "metadata": {
    "execution": {
     "iopub.execute_input": "2022-09-12T06:57:14.682179Z",
     "iopub.status.busy": "2022-09-12T06:57:14.681358Z",
     "iopub.status.idle": "2022-09-12T06:57:14.807857Z",
     "shell.execute_reply": "2022-09-12T06:57:14.806933Z"
    },
    "papermill": {
     "duration": 0.151114,
     "end_time": "2022-09-12T06:57:14.810721",
     "exception": false,
     "start_time": "2022-09-12T06:57:14.659607",
     "status": "completed"
    },
    "tags": []
   },
   "outputs": [],
   "source": [
    "from sklearn.ensemble import BaggingClassifier,GradientBoostingClassifier,RandomForestClassifier\n",
    "from xgboost import XGBClassifier"
   ]
  },
  {
   "cell_type": "code",
   "execution_count": 37,
   "id": "50ce073d",
   "metadata": {
    "execution": {
     "iopub.execute_input": "2022-09-12T06:57:14.853790Z",
     "iopub.status.busy": "2022-09-12T06:57:14.853318Z",
     "iopub.status.idle": "2022-09-12T06:57:16.127417Z",
     "shell.execute_reply": "2022-09-12T06:57:16.126213Z"
    },
    "papermill": {
     "duration": 1.299609,
     "end_time": "2022-09-12T06:57:16.130590",
     "exception": false,
     "start_time": "2022-09-12T06:57:14.830981",
     "status": "completed"
    },
    "tags": []
   },
   "outputs": [
    {
     "name": "stdout",
     "output_type": "stream",
     "text": [
      "0.9895668962512918\n",
      "0.7476606540707875\n"
     ]
    }
   ],
   "source": [
    "## bagging classifier\n",
    "\n",
    "bag= BaggingClassifier()\n",
    "bag_cv = cross_validate(bag,train_x,train_y,scoring='f1_macro',cv = 5,n_jobs=-1,return_train_score=True)\n",
    "print(bag_cv['train_score'].mean())\n",
    "print(bag_cv['test_score'].mean())"
   ]
  },
  {
   "cell_type": "code",
   "execution_count": 38,
   "id": "73d8b055",
   "metadata": {
    "execution": {
     "iopub.execute_input": "2022-09-12T06:57:16.175556Z",
     "iopub.status.busy": "2022-09-12T06:57:16.174333Z",
     "iopub.status.idle": "2022-09-12T07:07:49.883319Z",
     "shell.execute_reply": "2022-09-12T07:07:49.882045Z"
    },
    "papermill": {
     "duration": 633.762801,
     "end_time": "2022-09-12T07:07:49.914820",
     "exception": false,
     "start_time": "2022-09-12T06:57:16.152019",
     "status": "completed"
    },
    "tags": []
   },
   "outputs": [
    {
     "name": "stderr",
     "output_type": "stream",
     "text": [
      "/opt/conda/lib/python3.7/site-packages/sklearn/linear_model/_sag.py:354: ConvergenceWarning: The max_iter was reached which means the coef_ did not converge\n",
      "  ConvergenceWarning,\n",
      "/opt/conda/lib/python3.7/site-packages/sklearn/linear_model/_sag.py:354: ConvergenceWarning: The max_iter was reached which means the coef_ did not converge\n",
      "  ConvergenceWarning,\n",
      "/opt/conda/lib/python3.7/site-packages/sklearn/linear_model/_sag.py:354: ConvergenceWarning: The max_iter was reached which means the coef_ did not converge\n",
      "  ConvergenceWarning,\n",
      "/opt/conda/lib/python3.7/site-packages/sklearn/linear_model/_sag.py:354: ConvergenceWarning: The max_iter was reached which means the coef_ did not converge\n",
      "  ConvergenceWarning,\n",
      "/opt/conda/lib/python3.7/site-packages/sklearn/linear_model/_sag.py:354: ConvergenceWarning: The max_iter was reached which means the coef_ did not converge\n",
      "  ConvergenceWarning,\n",
      "/opt/conda/lib/python3.7/site-packages/sklearn/linear_model/_sag.py:354: ConvergenceWarning: The max_iter was reached which means the coef_ did not converge\n",
      "  ConvergenceWarning,\n",
      "/opt/conda/lib/python3.7/site-packages/sklearn/linear_model/_sag.py:354: ConvergenceWarning: The max_iter was reached which means the coef_ did not converge\n",
      "  ConvergenceWarning,\n",
      "/opt/conda/lib/python3.7/site-packages/sklearn/linear_model/_sag.py:354: ConvergenceWarning: The max_iter was reached which means the coef_ did not converge\n",
      "  ConvergenceWarning,\n",
      "/opt/conda/lib/python3.7/site-packages/sklearn/linear_model/_stochastic_gradient.py:700: ConvergenceWarning: Maximum number of iteration reached before convergence. Consider increasing max_iter to improve the fit.\n",
      "  ConvergenceWarning,\n",
      "/opt/conda/lib/python3.7/site-packages/sklearn/linear_model/_sag.py:354: ConvergenceWarning: The max_iter was reached which means the coef_ did not converge\n",
      "  ConvergenceWarning,\n",
      "/opt/conda/lib/python3.7/site-packages/sklearn/linear_model/_sag.py:354: ConvergenceWarning: The max_iter was reached which means the coef_ did not converge\n",
      "  ConvergenceWarning,\n"
     ]
    },
    {
     "name": "stdout",
     "output_type": "stream",
     "text": [
      "best estimator:\n",
      "BaggingClassifier(max_features=10, max_samples=0.3, n_estimators=1800)\n",
      "best score:\n",
      "0.7848572698633032\n"
     ]
    }
   ],
   "source": [
    "## tuning bagging classifier\n",
    "\n",
    "Bag_params = {'n_estimators':[int(x) for x in np.linspace(200,2000,10)], 'max_samples':[0.1,0.2,0.3], 'max_features':[2,5,10,40]}\n",
    "bag_rs = RandomizedSearchCV(bag,Bag_params,scoring='f1_macro',cv=10)\n",
    "bag_rs.fit(train_x,train_y)\n",
    "print('best estimator:')\n",
    "print(bag_rs.best_estimator_)\n",
    "print('best score:')\n",
    "print(bag_rs.best_score_)"
   ]
  },
  {
   "cell_type": "code",
   "execution_count": 39,
   "id": "c4566260",
   "metadata": {
    "execution": {
     "iopub.execute_input": "2022-09-12T07:07:49.961281Z",
     "iopub.status.busy": "2022-09-12T07:07:49.960367Z",
     "iopub.status.idle": "2022-09-12T07:07:50.524126Z",
     "shell.execute_reply": "2022-09-12T07:07:50.522856Z"
    },
    "papermill": {
     "duration": 0.590322,
     "end_time": "2022-09-12T07:07:50.527085",
     "exception": false,
     "start_time": "2022-09-12T07:07:49.936763",
     "status": "completed"
    },
    "tags": []
   },
   "outputs": [
    {
     "name": "stdout",
     "output_type": "stream",
     "text": [
      "              precision    recall  f1-score   support\n",
      "\n",
      "           0       0.79      0.73      0.76       249\n",
      "           1       0.73      0.90      0.81       360\n",
      "           2       0.66      0.38      0.49       151\n",
      "\n",
      "    accuracy                           0.74       760\n",
      "   macro avg       0.73      0.67      0.68       760\n",
      "weighted avg       0.74      0.74      0.73       760\n",
      "\n"
     ]
    }
   ],
   "source": [
    "bag_cr= classification_report(val_y, bag_rs.predict(val_x))\n",
    "print(bag_cr)"
   ]
  },
  {
   "cell_type": "code",
   "execution_count": 40,
   "id": "27e1b469",
   "metadata": {
    "execution": {
     "iopub.execute_input": "2022-09-12T07:07:50.573421Z",
     "iopub.status.busy": "2022-09-12T07:07:50.571710Z",
     "iopub.status.idle": "2022-09-12T07:08:13.880489Z",
     "shell.execute_reply": "2022-09-12T07:08:13.879286Z"
    },
    "papermill": {
     "duration": 23.335517,
     "end_time": "2022-09-12T07:08:13.883764",
     "exception": false,
     "start_time": "2022-09-12T07:07:50.548247",
     "status": "completed"
    },
    "tags": []
   },
   "outputs": [
    {
     "name": "stdout",
     "output_type": "stream",
     "text": [
      "0.8555969098710186\n",
      "0.7674440872733201\n"
     ]
    }
   ],
   "source": [
    "## Gradient Boosting Classifier\n",
    "\n",
    "gbc = GradientBoostingClassifier()\n",
    "gbc_cv = cross_validate(gbc,train_x,train_y,scoring='f1_macro',cv=10,n_jobs=-1,return_train_score=True)\n",
    "print(gbc_cv['train_score'].mean())\n",
    "print(gbc_cv['test_score'].mean())"
   ]
  },
  {
   "cell_type": "code",
   "execution_count": 41,
   "id": "894d236e",
   "metadata": {
    "execution": {
     "iopub.execute_input": "2022-09-12T07:08:13.931398Z",
     "iopub.status.busy": "2022-09-12T07:08:13.930559Z",
     "iopub.status.idle": "2022-09-12T07:08:19.583067Z",
     "shell.execute_reply": "2022-09-12T07:08:19.581636Z"
    },
    "papermill": {
     "duration": 5.679348,
     "end_time": "2022-09-12T07:08:19.586026",
     "exception": false,
     "start_time": "2022-09-12T07:08:13.906678",
     "status": "completed"
    },
    "tags": []
   },
   "outputs": [
    {
     "data": {
      "text/plain": [
       "GradientBoostingClassifier()"
      ]
     },
     "execution_count": 41,
     "metadata": {},
     "output_type": "execute_result"
    }
   ],
   "source": [
    "gbc.fit(train_x,train_y)"
   ]
  },
  {
   "cell_type": "code",
   "execution_count": 42,
   "id": "dceb97e1",
   "metadata": {
    "execution": {
     "iopub.execute_input": "2022-09-12T07:08:19.632841Z",
     "iopub.status.busy": "2022-09-12T07:08:19.632040Z",
     "iopub.status.idle": "2022-09-12T07:08:19.650374Z",
     "shell.execute_reply": "2022-09-12T07:08:19.649427Z"
    },
    "papermill": {
     "duration": 0.044445,
     "end_time": "2022-09-12T07:08:19.652932",
     "exception": false,
     "start_time": "2022-09-12T07:08:19.608487",
     "status": "completed"
    },
    "tags": []
   },
   "outputs": [
    {
     "name": "stdout",
     "output_type": "stream",
     "text": [
      "              precision    recall  f1-score   support\n",
      "\n",
      "           0       0.82      0.73      0.77       249\n",
      "           1       0.76      0.90      0.83       360\n",
      "           2       0.61      0.47      0.53       151\n",
      "\n",
      "    accuracy                           0.76       760\n",
      "   macro avg       0.73      0.70      0.71       760\n",
      "weighted avg       0.75      0.76      0.75       760\n",
      "\n"
     ]
    }
   ],
   "source": [
    "gbc_cr= classification_report(val_y, gbc.predict(val_x))\n",
    "print(gbc_cr)"
   ]
  },
  {
   "cell_type": "code",
   "execution_count": 43,
   "id": "caf49c35",
   "metadata": {
    "execution": {
     "iopub.execute_input": "2022-09-12T07:08:19.699213Z",
     "iopub.status.busy": "2022-09-12T07:08:19.698726Z",
     "iopub.status.idle": "2022-09-12T07:08:24.336423Z",
     "shell.execute_reply": "2022-09-12T07:08:24.335104Z"
    },
    "papermill": {
     "duration": 4.664341,
     "end_time": "2022-09-12T07:08:24.339503",
     "exception": false,
     "start_time": "2022-09-12T07:08:19.675162",
     "status": "completed"
    },
    "tags": []
   },
   "outputs": [
    {
     "name": "stdout",
     "output_type": "stream",
     "text": [
      "0.9999753633866331\n",
      "0.8020399651887073\n"
     ]
    }
   ],
   "source": [
    "## random forest\n",
    "\n",
    "rf= RandomForestClassifier()\n",
    "rf_cv = cross_validate(rf,train_x,train_y,scoring='f1_macro',cv=10,n_jobs=-1,return_train_score=True) \n",
    "print(rf_cv['train_score'].mean())\n",
    "print(rf_cv['test_score'].mean())"
   ]
  },
  {
   "cell_type": "code",
   "execution_count": 44,
   "id": "e5abd8db",
   "metadata": {
    "execution": {
     "iopub.execute_input": "2022-09-12T07:08:24.387426Z",
     "iopub.status.busy": "2022-09-12T07:08:24.386647Z",
     "iopub.status.idle": "2022-09-12T07:10:27.225151Z",
     "shell.execute_reply": "2022-09-12T07:10:27.223332Z"
    },
    "papermill": {
     "duration": 122.89171,
     "end_time": "2022-09-12T07:10:27.253427",
     "exception": false,
     "start_time": "2022-09-12T07:08:24.361717",
     "status": "completed"
    },
    "tags": []
   },
   "outputs": [
    {
     "name": "stdout",
     "output_type": "stream",
     "text": [
      "best estimator:\n",
      "RandomForestClassifier(max_depth=15, max_features=30, n_estimators=700)\n",
      "best score:\n",
      "0.7818141493215929\n"
     ]
    }
   ],
   "source": [
    "## tuning Random forest \n",
    "\n",
    "RF_params = {'n_estimators':[int(x) for x in np.linspace(100,1000,10)], 'criterion':['gini','entropy'],'max_depth':[5,8,15,25,30,50], 'min_samples_leaf':[1,2,5,8,10,100],'min_samples_split':[2,6,10,20,40,80,100,120],'max_features':[5,10,'sqrt',30]}\n",
    "RF_rs = RandomizedSearchCV(rf,RF_params, scoring='f1_macro', cv=5, n_jobs=-1)\n",
    "RF_rs.fit(train_x,train_y)\n",
    "print('best estimator:')\n",
    "print(RF_rs.best_estimator_)\n",
    "print('best score:')\n",
    "print(RF_rs.best_score_)"
   ]
  },
  {
   "cell_type": "code",
   "execution_count": 45,
   "id": "dd057a9d",
   "metadata": {
    "execution": {
     "iopub.execute_input": "2022-09-12T07:10:27.303289Z",
     "iopub.status.busy": "2022-09-12T07:10:27.301826Z",
     "iopub.status.idle": "2022-09-12T07:10:27.531050Z",
     "shell.execute_reply": "2022-09-12T07:10:27.529573Z"
    },
    "papermill": {
     "duration": 0.256841,
     "end_time": "2022-09-12T07:10:27.534333",
     "exception": false,
     "start_time": "2022-09-12T07:10:27.277492",
     "status": "completed"
    },
    "tags": []
   },
   "outputs": [
    {
     "name": "stdout",
     "output_type": "stream",
     "text": [
      "              precision    recall  f1-score   support\n",
      "\n",
      "           0       0.82      0.70      0.75       249\n",
      "           1       0.74      0.89      0.80       360\n",
      "           2       0.58      0.43      0.49       151\n",
      "\n",
      "    accuracy                           0.73       760\n",
      "   macro avg       0.71      0.67      0.68       760\n",
      "weighted avg       0.73      0.73      0.73       760\n",
      "\n"
     ]
    }
   ],
   "source": [
    "RF_cr= classification_report(val_y, RF_rs.predict(val_x))\n",
    "print(RF_cr)"
   ]
  },
  {
   "cell_type": "code",
   "execution_count": 46,
   "id": "8c21eb22",
   "metadata": {
    "execution": {
     "iopub.execute_input": "2022-09-12T07:10:27.580901Z",
     "iopub.status.busy": "2022-09-12T07:10:27.580477Z",
     "iopub.status.idle": "2022-09-12T07:10:28.766068Z",
     "shell.execute_reply": "2022-09-12T07:10:28.764142Z"
    },
    "papermill": {
     "duration": 1.212556,
     "end_time": "2022-09-12T07:10:28.769068",
     "exception": false,
     "start_time": "2022-09-12T07:10:27.556512",
     "status": "completed"
    },
    "tags": []
   },
   "outputs": [
    {
     "name": "stdout",
     "output_type": "stream",
     "text": [
      "              precision    recall  f1-score   support\n",
      "\n",
      "           0       0.81      0.73      0.77       249\n",
      "           1       0.74      0.89      0.81       360\n",
      "           2       0.58      0.39      0.47       151\n",
      "\n",
      "    accuracy                           0.74       760\n",
      "   macro avg       0.71      0.67      0.68       760\n",
      "weighted avg       0.73      0.74      0.73       760\n",
      "\n"
     ]
    }
   ],
   "source": [
    "rf.fit(train_x,train_y)\n",
    "RF_cr= classification_report(val_y, rf.predict(val_x))\n",
    "print(RF_cr)\n"
   ]
  },
  {
   "cell_type": "code",
   "execution_count": 47,
   "id": "5980bbd2",
   "metadata": {
    "execution": {
     "iopub.execute_input": "2022-09-12T07:10:28.815743Z",
     "iopub.status.busy": "2022-09-12T07:10:28.815279Z",
     "iopub.status.idle": "2022-09-12T07:10:47.187025Z",
     "shell.execute_reply": "2022-09-12T07:10:47.185436Z"
    },
    "papermill": {
     "duration": 18.399349,
     "end_time": "2022-09-12T07:10:47.190534",
     "exception": false,
     "start_time": "2022-09-12T07:10:28.791185",
     "status": "completed"
    },
    "tags": []
   },
   "outputs": [
    {
     "name": "stdout",
     "output_type": "stream",
     "text": [
      "1.0\n",
      "0.8110066652727855\n"
     ]
    }
   ],
   "source": [
    "## XGboost \n",
    "\n",
    "xgb= XGBClassifier()\n",
    "xgb_cv = cross_validate(xgb,train_x,train_y,scoring='f1_macro',cv=10,n_jobs=-1,return_train_score=True)\n",
    "print(xgb_cv['train_score'].mean())\n",
    "print(xgb_cv['test_score'].mean())"
   ]
  },
  {
   "cell_type": "code",
   "execution_count": 48,
   "id": "200c3975",
   "metadata": {
    "execution": {
     "iopub.execute_input": "2022-09-12T07:10:47.240248Z",
     "iopub.status.busy": "2022-09-12T07:10:47.239742Z",
     "iopub.status.idle": "2022-09-12T07:10:49.711867Z",
     "shell.execute_reply": "2022-09-12T07:10:49.710847Z"
    },
    "papermill": {
     "duration": 2.499627,
     "end_time": "2022-09-12T07:10:49.714800",
     "exception": false,
     "start_time": "2022-09-12T07:10:47.215173",
     "status": "completed"
    },
    "tags": []
   },
   "outputs": [
    {
     "name": "stdout",
     "output_type": "stream",
     "text": [
      "              precision    recall  f1-score   support\n",
      "\n",
      "           0       0.80      0.74      0.77       249\n",
      "           1       0.75      0.90      0.82       360\n",
      "           2       0.62      0.40      0.49       151\n",
      "\n",
      "    accuracy                           0.75       760\n",
      "   macro avg       0.72      0.68      0.69       760\n",
      "weighted avg       0.74      0.75      0.74       760\n",
      "\n"
     ]
    }
   ],
   "source": [
    "xgb.fit(train_x,train_y)\n",
    "xgb_cr= classification_report(val_y, xgb.predict(val_x))\n",
    "print(xgb_cr)"
   ]
  },
  {
   "cell_type": "code",
   "execution_count": 49,
   "id": "5feca36c",
   "metadata": {
    "execution": {
     "iopub.execute_input": "2022-09-12T07:10:49.764661Z",
     "iopub.status.busy": "2022-09-12T07:10:49.763833Z",
     "iopub.status.idle": "2022-09-12T07:10:51.864475Z",
     "shell.execute_reply": "2022-09-12T07:10:51.863359Z"
    },
    "papermill": {
     "duration": 2.126881,
     "end_time": "2022-09-12T07:10:51.867260",
     "exception": false,
     "start_time": "2022-09-12T07:10:49.740379",
     "status": "completed"
    },
    "tags": []
   },
   "outputs": [],
   "source": [
    "xgb.fit(features,label)\n",
    "xgb_pred= xgb.predict(testdata)"
   ]
  },
  {
   "cell_type": "code",
   "execution_count": 50,
   "id": "c1752962",
   "metadata": {
    "execution": {
     "iopub.execute_input": "2022-09-12T07:10:51.915190Z",
     "iopub.status.busy": "2022-09-12T07:10:51.914656Z",
     "iopub.status.idle": "2022-09-12T07:10:51.930963Z",
     "shell.execute_reply": "2022-09-12T07:10:51.929623Z"
    },
    "papermill": {
     "duration": 0.042534,
     "end_time": "2022-09-12T07:10:51.933933",
     "exception": false,
     "start_time": "2022-09-12T07:10:51.891399",
     "status": "completed"
    },
    "tags": []
   },
   "outputs": [],
   "source": [
    "submission= pd.DataFrame({'id': testdata['id'], 'label': xgb_pred})\n",
    "submission.to_csv('submission.csv',index=False )"
   ]
  }
 ],
 "metadata": {
  "kernelspec": {
   "display_name": "Python 3",
   "language": "python",
   "name": "python3"
  },
  "language_info": {
   "codemirror_mode": {
    "name": "ipython",
    "version": 3
   },
   "file_extension": ".py",
   "mimetype": "text/x-python",
   "name": "python",
   "nbconvert_exporter": "python",
   "pygments_lexer": "ipython3",
   "version": "3.7.12"
  },
  "papermill": {
   "default_parameters": {},
   "duration": 1368.747549,
   "end_time": "2022-09-12T07:10:54.586753",
   "environment_variables": {},
   "exception": null,
   "input_path": "__notebook__.ipynb",
   "output_path": "__notebook__.ipynb",
   "parameters": {},
   "start_time": "2022-09-12T06:48:05.839204",
   "version": "2.3.4"
  }
 },
 "nbformat": 4,
 "nbformat_minor": 5
}
